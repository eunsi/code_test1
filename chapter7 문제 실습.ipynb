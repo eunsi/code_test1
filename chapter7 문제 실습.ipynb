{
 "cells": [
  {
   "cell_type": "markdown",
   "id": "4075744b",
   "metadata": {},
   "source": [
    "# Chapter 7 흐름제어"
   ]
  },
  {
   "cell_type": "markdown",
   "id": "d6d86e99",
   "metadata": {},
   "source": [
    "## 1) range()"
   ]
  },
  {
   "cell_type": "code",
   "execution_count": null,
   "id": "5a8730af",
   "metadata": {},
   "outputs": [],
   "source": [
    "#1\n",
    "print(range(21))"
   ]
  },
  {
   "cell_type": "code",
   "execution_count": null,
   "id": "ae3da18a",
   "metadata": {},
   "outputs": [],
   "source": [
    "#2\n",
    "print(list(range(1,21)))"
   ]
  },
  {
   "cell_type": "markdown",
   "id": "44351d5c",
   "metadata": {},
   "source": [
    "## 2) for loop"
   ]
  },
  {
   "cell_type": "code",
   "execution_count": null,
   "id": "f473dd6b",
   "metadata": {},
   "outputs": [],
   "source": [
    "#1\n",
    "for i in range(5):\n",
    "    print(i)"
   ]
  },
  {
   "cell_type": "code",
   "execution_count": null,
   "id": "7fb0c2a5",
   "metadata": {},
   "outputs": [],
   "source": [
    "#2\n",
    "for i in range(6) :\n",
    "    print('*'*i)"
   ]
  },
  {
   "cell_type": "code",
   "execution_count": null,
   "id": "37fee698",
   "metadata": {},
   "outputs": [],
   "source": [
    "#4\n",
    "for i in range(6):\n",
    "    if i%2==0 :\n",
    "        print('%'*i)\n",
    "    else :\n",
    "        print('*'*i)"
   ]
  },
  {
   "cell_type": "code",
   "execution_count": null,
   "id": "5c275547",
   "metadata": {},
   "outputs": [],
   "source": [
    "#5\n",
    "total = 0\n",
    "for i in range(1,101):\n",
    "    total=total+i\n",
    "print(total)"
   ]
  },
  {
   "cell_type": "code",
   "execution_count": null,
   "id": "20d7d5ae",
   "metadata": {},
   "outputs": [],
   "source": [
    "#6\n",
    "total = 0\n",
    "for i in range(1,101):\n",
    "    if i % 2 == 1:\n",
    "        total=total+i\n",
    "print(total)"
   ]
  },
  {
   "cell_type": "code",
   "execution_count": null,
   "id": "d44da4e5",
   "metadata": {},
   "outputs": [],
   "source": [
    "#8\n",
    "total=0\n",
    "for i in range(1,101):\n",
    "    if i % 2 != 0:\n",
    "        total=total+i\n",
    "    else :\n",
    "        total=total-i\n",
    "print(total)"
   ]
  },
  {
   "cell_type": "code",
   "execution_count": null,
   "id": "9303f4ff",
   "metadata": {},
   "outputs": [],
   "source": [
    "#9 심화\n",
    "for i in range(3,101):\n",
    "    for j in range(2,i):\n",
    "        if i % j == 0 :\n",
    "            print(i)\n",
    "            break"
   ]
  },
  {
   "cell_type": "code",
   "execution_count": null,
   "id": "1a619fa9",
   "metadata": {},
   "outputs": [],
   "source": [
    "#10\n",
    "for a in range (2,10) :\n",
    "    print(\"구구단\", a ,\"단을 출력합니다.\")\n",
    "    for i in range(2,10) :\n",
    "        print(a,\"x\",i,\"=\",a*i)"
   ]
  },
  {
   "cell_type": "markdown",
   "id": "66ba501e",
   "metadata": {},
   "source": [
    "## 3)while loop"
   ]
  },
  {
   "cell_type": "code",
   "execution_count": null,
   "id": "2502d494",
   "metadata": {},
   "outputs": [],
   "source": [
    "#1\n",
    "i = 0\n",
    "while i<=5 :\n",
    "    print(i)\n",
    "    i+=1"
   ]
  },
  {
   "cell_type": "code",
   "execution_count": null,
   "id": "68faf4cc",
   "metadata": {},
   "outputs": [],
   "source": [
    "#2\n",
    "i = 1\n",
    "while i<=5 :\n",
    "    if i % 2 !=0 :\n",
    "        print('*'*i)\n",
    "    else :\n",
    "        print('%'*i)\n",
    "    i+= 1"
   ]
  },
  {
   "cell_type": "code",
   "execution_count": 1,
   "id": "400d9c94",
   "metadata": {},
   "outputs": [
    {
     "name": "stdout",
     "output_type": "stream",
     "text": [
      "1683\n"
     ]
    }
   ],
   "source": [
    "#3\n",
    "i = 1\n",
    "total = 0\n",
    "while i<=100 :\n",
    "    if i % 3 ==0:\n",
    "        total+= i\n",
    "    i+= 1\n",
    "print(total)"
   ]
  },
  {
   "cell_type": "code",
   "execution_count": 3,
   "id": "cc078e32",
   "metadata": {},
   "outputs": [
    {
     "name": "stdout",
     "output_type": "stream",
     "text": [
      "이름\n",
      "welcome~\n"
     ]
    }
   ],
   "source": [
    "#4\n",
    "while True :\n",
    "    a = input()\n",
    "    if a == '이름':\n",
    "        print('welcome~')\n",
    "        break"
   ]
  },
  {
   "cell_type": "code",
   "execution_count": 10,
   "id": "1ba52e96",
   "metadata": {},
   "outputs": [
    {
     "name": "stdout",
     "output_type": "stream",
     "text": [
      "d\n",
      "d\n",
      "d\n",
      "d\n",
      "d\n",
      "d\n"
     ]
    }
   ],
   "source": [
    "#5\n",
    "num = 5\n",
    "a = input()\n",
    "while num>0:\n",
    "    print(a)\n",
    "    num-=1"
   ]
  },
  {
   "cell_type": "code",
   "execution_count": null,
   "id": "f75bf053",
   "metadata": {},
   "outputs": [],
   "source": []
  },
  {
   "cell_type": "code",
   "execution_count": null,
   "id": "f63a95a0",
   "metadata": {},
   "outputs": [],
   "source": []
  },
  {
   "cell_type": "code",
   "execution_count": null,
   "id": "169a406d",
   "metadata": {},
   "outputs": [],
   "source": []
  },
  {
   "cell_type": "code",
   "execution_count": null,
   "id": "504e5111",
   "metadata": {},
   "outputs": [],
   "source": []
  },
  {
   "cell_type": "code",
   "execution_count": null,
   "id": "724a7fda",
   "metadata": {},
   "outputs": [],
   "source": []
  },
  {
   "cell_type": "code",
   "execution_count": null,
   "id": "7e50c2c3",
   "metadata": {},
   "outputs": [],
   "source": []
  },
  {
   "cell_type": "code",
   "execution_count": null,
   "id": "680bd114",
   "metadata": {},
   "outputs": [],
   "source": []
  }
 ],
 "metadata": {
  "kernelspec": {
   "display_name": "Python 3",
   "language": "python",
   "name": "python3"
  },
  "language_info": {
   "codemirror_mode": {
    "name": "ipython",
    "version": 3
   },
   "file_extension": ".py",
   "mimetype": "text/x-python",
   "name": "python",
   "nbconvert_exporter": "python",
   "pygments_lexer": "ipython3",
   "version": "3.8.8"
  }
 },
 "nbformat": 4,
 "nbformat_minor": 5
}
