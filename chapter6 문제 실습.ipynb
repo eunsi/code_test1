{
 "cells": [
  {
   "cell_type": "markdown",
   "id": "e7948dbd",
   "metadata": {},
   "source": [
    "# chapter6 흐름제어"
   ]
  },
  {
   "cell_type": "markdown",
   "id": "1813b340",
   "metadata": {},
   "source": [
    "## Bool 연산자"
   ]
  },
  {
   "cell_type": "code",
   "execution_count": 1,
   "id": "b48d3a36",
   "metadata": {},
   "outputs": [
    {
     "name": "stdout",
     "output_type": "stream",
     "text": [
      "True\n"
     ]
    }
   ],
   "source": [
    "#1\n",
    "print(('a'=='A') or (10 == 10.0))"
   ]
  },
  {
   "cell_type": "code",
   "execution_count": 2,
   "id": "c390fc7a",
   "metadata": {},
   "outputs": [
    {
     "name": "stdout",
     "output_type": "stream",
     "text": [
      "True\n"
     ]
    }
   ],
   "source": [
    "#4\n",
    "c=2\n",
    "d=5\n",
    "print((c+d>c**2) or (c*d/2==0))"
   ]
  },
  {
   "cell_type": "markdown",
   "id": "eef3a353",
   "metadata": {},
   "source": [
    "## if"
   ]
  },
  {
   "cell_type": "code",
   "execution_count": 4,
   "id": "88007cb3",
   "metadata": {},
   "outputs": [
    {
     "name": "stdout",
     "output_type": "stream",
     "text": [
      "pass\n"
     ]
    }
   ],
   "source": [
    "#1\n",
    "score = 80\n",
    "if score<=90 :\n",
    "    print('pass')"
   ]
  },
  {
   "cell_type": "code",
   "execution_count": 6,
   "id": "76b8bb86",
   "metadata": {},
   "outputs": [
    {
     "name": "stdout",
     "output_type": "stream",
     "text": [
      "40대\n"
     ]
    }
   ],
   "source": [
    "#2\n",
    "age = 40\n",
    "if age<10 :\n",
    "    print('10세 미만')\n",
    "elif age<20 :\n",
    "    print('10대')\n",
    "elif age<30 :\n",
    "    print('20대')\n",
    "elif age<40 :\n",
    "    print('30대')\n",
    "elif age<50 :\n",
    "    print('40대')\n",
    "else :\n",
    "    print('50대 이상')"
   ]
  },
  {
   "cell_type": "code",
   "execution_count": 8,
   "id": "d6ff9699",
   "metadata": {},
   "outputs": [
    {
     "name": "stdout",
     "output_type": "stream",
     "text": [
      "11의 배수입니다.\n"
     ]
    }
   ],
   "source": [
    "#5\n",
    "num1=11\n",
    "if num1%11==0 :\n",
    "    print('11의 배수입니다.')\n",
    "else :\n",
    "    print('11의 배수가 아닙니다.')"
   ]
  },
  {
   "cell_type": "code",
   "execution_count": 18,
   "id": "bd556e6b",
   "metadata": {},
   "outputs": [
    {
     "name": "stdout",
     "output_type": "stream",
     "text": [
      "1000.0\n"
     ]
    }
   ],
   "source": [
    "#6\n",
    "grade='C'\n",
    "price=50000\n",
    "\n",
    "if grade =='A' :\n",
    "    print(price*0.1)\n",
    "elif grade == 'B' :\n",
    "    print(price*0.05)\n",
    "else :\n",
    "    print(price*0.02)"
   ]
  }
 ],
 "metadata": {
  "kernelspec": {
   "display_name": "Python 3",
   "language": "python",
   "name": "python3"
  },
  "language_info": {
   "codemirror_mode": {
    "name": "ipython",
    "version": 3
   },
   "file_extension": ".py",
   "mimetype": "text/x-python",
   "name": "python",
   "nbconvert_exporter": "python",
   "pygments_lexer": "ipython3",
   "version": "3.8.8"
  }
 },
 "nbformat": 4,
 "nbformat_minor": 5
}
