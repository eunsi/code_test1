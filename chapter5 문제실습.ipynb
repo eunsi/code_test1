{
 "cells": [
  {
   "cell_type": "markdown",
   "id": "415f7a6b",
   "metadata": {},
   "source": [
    "# 파이썬 chapter5 문제"
   ]
  },
  {
   "cell_type": "markdown",
   "id": "a5c72038",
   "metadata": {},
   "source": [
    "## 1) print() 사용하기"
   ]
  },
  {
   "cell_type": "code",
   "execution_count": 8,
   "id": "8f573709",
   "metadata": {},
   "outputs": [
    {
     "name": "stdout",
     "output_type": "stream",
     "text": [
      "123456\n"
     ]
    }
   ],
   "source": [
    "#1\n",
    "print(123456)"
   ]
  },
  {
   "cell_type": "code",
   "execution_count": 3,
   "id": "840e6feb",
   "metadata": {},
   "outputs": [
    {
     "name": "stdout",
     "output_type": "stream",
     "text": [
      "123\n",
      "456\n"
     ]
    }
   ],
   "source": [
    "#2\n",
    "print(123)\n",
    "print(456)"
   ]
  },
  {
   "cell_type": "code",
   "execution_count": 5,
   "id": "b32ab788",
   "metadata": {},
   "outputs": [
    {
     "name": "stdout",
     "output_type": "stream",
     "text": [
      "123 456\n"
     ]
    }
   ],
   "source": [
    "#3\n",
    "print('123','456')"
   ]
  },
  {
   "cell_type": "code",
   "execution_count": 9,
   "id": "6ee24f5c",
   "metadata": {},
   "outputs": [
    {
     "name": "stdout",
     "output_type": "stream",
     "text": [
      "파이썬을 배웁시다.\n"
     ]
    }
   ],
   "source": [
    "#4\n",
    "print('파이썬을 배웁시다.')"
   ]
  },
  {
   "cell_type": "code",
   "execution_count": 10,
   "id": "2d29f00d",
   "metadata": {},
   "outputs": [
    {
     "name": "stdout",
     "output_type": "stream",
     "text": [
      "파이썬을 배웁시다.\n",
      "누구든 할 수 있습니다.\n"
     ]
    }
   ],
   "source": [
    "#5\n",
    "print('파이썬을 배웁시다.')\n",
    "print('누구든 할 수 있습니다.')"
   ]
  },
  {
   "cell_type": "code",
   "execution_count": 11,
   "id": "5e61391e",
   "metadata": {},
   "outputs": [
    {
     "name": "stdout",
     "output_type": "stream",
     "text": [
      "456\n",
      "오늘은\n",
      "12월 20일 입니다.\n"
     ]
    }
   ],
   "source": [
    "#6\n",
    "print(456)\n",
    "print('오늘은')\n",
    "print('12월 20일 입니다.')"
   ]
  },
  {
   "cell_type": "markdown",
   "id": "2cb667e5",
   "metadata": {},
   "source": [
    "## 2) 숫자다루기"
   ]
  },
  {
   "cell_type": "code",
   "execution_count": 13,
   "id": "67232ea9",
   "metadata": {},
   "outputs": [
    {
     "name": "stdout",
     "output_type": "stream",
     "text": [
      "130\n",
      "120\n",
      "625\n",
      "25.0\n"
     ]
    }
   ],
   "source": [
    "#1\n",
    "print(125+5)\n",
    "print(125-5)\n",
    "print(125*5)\n",
    "print(125/5)"
   ]
  },
  {
   "cell_type": "code",
   "execution_count": 14,
   "id": "18876572",
   "metadata": {},
   "outputs": [
    {
     "name": "stdout",
     "output_type": "stream",
     "text": [
      "13\n"
     ]
    }
   ],
   "source": [
    "#2\n",
    "print(178//13)"
   ]
  },
  {
   "cell_type": "code",
   "execution_count": 15,
   "id": "3aeb1beb",
   "metadata": {},
   "outputs": [
    {
     "name": "stdout",
     "output_type": "stream",
     "text": [
      "9\n"
     ]
    }
   ],
   "source": [
    "#3\n",
    "print(178%13)"
   ]
  },
  {
   "cell_type": "code",
   "execution_count": 16,
   "id": "15bc3b4b",
   "metadata": {},
   "outputs": [
    {
     "name": "stdout",
     "output_type": "stream",
     "text": [
      "1024\n"
     ]
    }
   ],
   "source": [
    "#7\n",
    "print(2**10)"
   ]
  },
  {
   "cell_type": "code",
   "execution_count": 18,
   "id": "eb7c3031",
   "metadata": {},
   "outputs": [
    {
     "name": "stdout",
     "output_type": "stream",
     "text": [
      "0.004629629629629629\n"
     ]
    }
   ],
   "source": [
    "#8\n",
    "print(6**-3)"
   ]
  },
  {
   "cell_type": "code",
   "execution_count": 19,
   "id": "c4d6e6ab",
   "metadata": {},
   "outputs": [
    {
     "name": "stdout",
     "output_type": "stream",
     "text": [
      "False\n"
     ]
    }
   ],
   "source": [
    "#9\n",
    "print(652==87)"
   ]
  },
  {
   "cell_type": "markdown",
   "id": "4031f531",
   "metadata": {},
   "source": [
    "## 3) 문자 다루기"
   ]
  },
  {
   "cell_type": "code",
   "execution_count": 20,
   "id": "f18c124c",
   "metadata": {},
   "outputs": [
    {
     "name": "stdout",
     "output_type": "stream",
     "text": [
      "나는너를...\n"
     ]
    }
   ],
   "source": [
    "#1\n",
    "print('나는'+'너를...')"
   ]
  },
  {
   "cell_type": "code",
   "execution_count": 21,
   "id": "bc125eb5",
   "metadata": {},
   "outputs": [
    {
     "name": "stdout",
     "output_type": "stream",
     "text": [
      "**********\n"
     ]
    }
   ],
   "source": [
    "#3\n",
    "print('*'*10)"
   ]
  },
  {
   "cell_type": "code",
   "execution_count": 22,
   "id": "34e5a09d",
   "metadata": {},
   "outputs": [
    {
     "name": "stdout",
     "output_type": "stream",
     "text": [
      "True\n"
     ]
    }
   ],
   "source": [
    "#5\n",
    "print('a'<'b')"
   ]
  },
  {
   "cell_type": "markdown",
   "id": "5eab0fb5",
   "metadata": {},
   "source": [
    "## 4) 변수"
   ]
  },
  {
   "cell_type": "code",
   "execution_count": 23,
   "id": "734c3159",
   "metadata": {},
   "outputs": [
    {
     "name": "stdout",
     "output_type": "stream",
     "text": [
      "48 홍길동\n"
     ]
    }
   ],
   "source": [
    "v1=48\n",
    "v2='홍길동'\n",
    "print(v1,v2)"
   ]
  },
  {
   "cell_type": "code",
   "execution_count": 25,
   "id": "25fd7d6d",
   "metadata": {},
   "outputs": [
    {
     "name": "stdout",
     "output_type": "stream",
     "text": [
      "2\n"
     ]
    }
   ],
   "source": [
    "#5\n",
    "g=1\n",
    "g += 1\n",
    "print(g)"
   ]
  },
  {
   "cell_type": "code",
   "execution_count": 26,
   "id": "70686c4b",
   "metadata": {},
   "outputs": [
    {
     "name": "stdout",
     "output_type": "stream",
     "text": [
      "4\n"
     ]
    }
   ],
   "source": [
    "#6\n",
    "h=2\n",
    "h *= 2\n",
    "print(h)"
   ]
  },
  {
   "cell_type": "code",
   "execution_count": 28,
   "id": "8fcbfe35",
   "metadata": {},
   "outputs": [
    {
     "name": "stdout",
     "output_type": "stream",
     "text": [
      "홍길동의 평균 점수는85.33333333333333\n"
     ]
    }
   ],
   "source": [
    "#8\n",
    "kor=96\n",
    "math=72\n",
    "eng=88\n",
    "avg=(kor+math+eng)/3\n",
    "\n",
    "print('홍길동의 평균 점수는'+ str(avg))"
   ]
  }
 ],
 "metadata": {
  "kernelspec": {
   "display_name": "Python 3",
   "language": "python",
   "name": "python3"
  },
  "language_info": {
   "codemirror_mode": {
    "name": "ipython",
    "version": 3
   },
   "file_extension": ".py",
   "mimetype": "text/x-python",
   "name": "python",
   "nbconvert_exporter": "python",
   "pygments_lexer": "ipython3",
   "version": "3.8.8"
  }
 },
 "nbformat": 4,
 "nbformat_minor": 5
}
